{
  "metadata": {
    "kernelspec": {
      "name": "python",
      "display_name": "Python (Pyodide)",
      "language": "python"
    },
    "language_info": {
      "codemirror_mode": {
        "name": "python",
        "version": 3
      },
      "file_extension": ".py",
      "mimetype": "text/x-python",
      "name": "python",
      "nbconvert_exporter": "python",
      "pygments_lexer": "ipython3",
      "version": "3.8"
    }
  },
  "nbformat_minor": 5,
  "nbformat": 4,
  "cells": [
    {
      "id": "9944eea3-3281-4fbf-8862-493a12cd40d5",
      "cell_type": "code",
      "source": "import datetime\nimport math\n\n# Emojis para representar os ponteiros\nemoji_hour = \"🕐\"\nemoji_minute = \"🕒\"\nemoji_second = \"🕕\"\n\n# Obter a hora atual\nnow = datetime.datetime.now()\nhour = now.hour % 12\nminute = now.minute\nsecond = now.second\n\n# Calcular os ângulos dos ponteiros\nangle_hour = (hour + minute / 60) * 30\nangle_minute = (minute + second / 60) * 6\nangle_second = second * 6\n\n# Função para criar um ponteiro com emoji\ndef pointer(angle, symbol):\n    x = int(10 + 8 * math.cos(math.radians(angle - 90)))\n    y = int(5 + 4 * math.sin(math.radians(angle - 90)))\n    return (x, y, symbol)\n\n# Criar o mostrador\nclock = [[\" \" for _ in range(21)] for _ in range(11)]\n\n# Adicionar ponteiros\nfor x, y, e in [\n    pointer(angle_hour, emoji_hour),\n    pointer(angle_minute, emoji_minute),\n    pointer(angle_second, emoji_second)\n]:\n    if 0 <= y < 11 and 0 <= x < 21:\n        clock[y][x] = e\n\n# Mostrar o relógio\nprint(\"🕰️ Relógio de Emojis:\")\nfor row in clock:\n    print(\"\".join(row))\n\nprint(f\"\\nHora atual: {now.strftime('%H:%M:%S')}\")\n",
      "metadata": {
        "trusted": true
      },
      "outputs": [
        {
          "name": "stdout",
          "output_type": "stream",
          "text": "🕰️ Relógio de Emojis:\n                     \n              🕕      \n                     \n                     \n                     \n                     \n                     \n                🕐    \n                     \n                     \n                     \n\nHora atual: 16:06:05\n"
        }
      ],
      "execution_count": 1
    },
    {
      "id": "4f445063-21aa-4538-ba46-2d4e05a1b83a",
      "cell_type": "code",
      "source": "",
      "metadata": {
        "trusted": true
      },
      "outputs": [],
      "execution_count": null
    },
    {
      "id": "65c6b6ba-fc19-455e-bd3b-0097af1fb81d",
      "cell_type": "code",
      "source": "",
      "metadata": {
        "trusted": true
      },
      "outputs": [],
      "execution_count": null
    }
  ]
}